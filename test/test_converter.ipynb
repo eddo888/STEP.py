{
 "cells": [
  {
   "cell_type": "code",
   "execution_count": 1,
   "id": "b7ddeb6a-04d0-4e0a-94e9-f89576afc179",
   "metadata": {},
   "outputs": [],
   "source": [
    "import io, os, re, sys, pandas, requests, json, logging\n",
    "\n",
    "from time import sleep\n",
    "from io import StringIO\n",
    "from datetime import datetime, timedelta, timezone\n",
    "from dateutil import tz\n",
    "from dotmap import DotMap\n",
    "from lxml import etree as ET\n",
    "from bs4 import BeautifulSoup as BS\n",
    "from tqdm import tqdm\n",
    "\n",
    "from Baubles.Colours import Colours\n",
    "from Perdy.parser import printXML\n",
    "from Perdy.pretty import prettyPrintLn\n",
    "from Spanners.Squirrel import Squirrel\n",
    "from STEP.Converter import Converter, logger\n",
    "from STEP.Helper import Helper\n",
    "from STEP.XSD import *\n",
    "from STEP.REST import ProcessTypes, Processes, Endpoints, Imports, Exports, Classifications, Assets, Entities, Products, Attributes, ObjectTypes\n",
    "from STEP.SOAP import StepSoapClient\n",
    "\n",
    "from GoldenChild.xpath import *"
   ]
  },
  {
   "cell_type": "code",
   "execution_count": 2,
   "id": "11c6ef0b-ad0c-4000-bc9c-a7a7482be82a",
   "metadata": {},
   "outputs": [],
   "source": [
    "dts = '%Y-%m-%d %H:%M:%S %z is %Z'\n",
    "ltz = tz.gettz('AEDT')"
   ]
  },
  {
   "cell_type": "code",
   "execution_count": 5,
   "id": "91266f15-33da-496f-959c-be2633aad415",
   "metadata": {},
   "outputs": [],
   "source": [
    "squirrel = Squirrel()\n",
    "\n",
    "#hostname='https://apacpresales-demo1-step.mdm.stibosystems.com'\n",
    "hostname='http://dave-steplinux'\n",
    "#hostname='https://apacpresales-poc-twg.mdm.stibosystems.com'\n",
    "config_id = 'Stibo Importer'\n",
    "\n",
    "\n",
    "username='DAVE'\n",
    "password = squirrel.get(f'stibo:{hostname}:{username}')\n",
    "\n",
    "context = 'Context1'\n",
    "workspace = 'Main'\n",
    "\n",
    "step_soap_client = StepSoapClient(\n",
    "    hostname=hostname,\n",
    "    username=username,\n",
    "    password=password,\n",
    ")\n",
    "\n",
    "def constructor(clasz):\n",
    "    instance = clasz()\n",
    "    instance.hostname=hostname\n",
    "    instance.username=username\n",
    "    instance.password=password\n",
    "    return instance\n",
    "\n",
    "process_types   = constructor(ProcessTypes)\n",
    "processes       = constructor(Processes)\n",
    "endpoints       = constructor(Endpoints)\n",
    "imports         = constructor(Imports)\n",
    "exports         = constructor(Exports)\n",
    "products        = constructor(Products)\n",
    "classifications = constructor(Classifications)\n",
    "entities        = constructor(Entities)\n",
    "assets          = constructor(Assets)\n",
    "attributes      = constructor(Attributes)\n",
    "objecttypes     = constructor(ObjectTypes)"
   ]
  },
  {
   "cell_type": "code",
   "execution_count": 6,
   "id": "74218fea-532f-4796-9a94-91b03d42cb76",
   "metadata": {},
   "outputs": [],
   "source": [
    "colours = Colours(colour=True)\n",
    "\n",
    "messages = {\t\t\n",
    "    'waiting': colours.Blue,\n",
    "    'running': colours.Cyan,\n",
    "    'failed': colours.Red,\n",
    "    'aborted': colours.Magenta,\n",
    "    'succeeded': colours.Green,\n",
    "    'completedwitherrors': colours.Orange,\n",
    "}\n",
    "\n",
    "def push_it(config_id, file, detailed=False):\n",
    "\n",
    "    colours = Colours(colour=True)\n",
    "\n",
    "    now = datetime.now(timezone.utc)\n",
    "    then = now.astimezone(ltz)\n",
    "\n",
    "    \n",
    "    print(f'uploading {file} using config {config_id}')\n",
    "    response = json.loads(imports.importer(config_id, file, process=f'{then}'))\n",
    "    bgp_id = response['id']\n",
    "\n",
    "    print(f'waiting for {bgp_id}')\n",
    "    waiting = True\n",
    "    failed = False\n",
    "\n",
    "    while waiting:\n",
    "        waiting = False\n",
    "\n",
    "        bgp = processes.get(bgp_id)\n",
    "\n",
    "        dts = bgp['ended']\n",
    "        status = bgp['status']\n",
    "\n",
    "        if status in ['running', 'waiting']:\n",
    "            waiting = True\n",
    "        else:\n",
    "            failed = True\n",
    "            errors = processes.report(bgp_id)\n",
    "\n",
    "        sleep(1)\n",
    "\n",
    "    if detailed:\n",
    "        for error in errors:\n",
    "            if error['entryType'] == 'error':\n",
    "                failed = True\n",
    "                print(f'{colours.Orange}{error[\"entryText\"]}{colours.Off}\\n')\n",
    "            else:\n",
    "                pass\n",
    "                #sys.stdout.write(f'{error[\"entryText\"]}\\n')\n",
    "            \n",
    "    #prettyPrintLn(bgp)\n",
    "\n",
    "    sys.stdout.write(f'{bgp_id}: {bgp[\"ended\"]} -> ')\n",
    "    sys.stdout.write(f'{messages[str(bgp[\"status\"])]}')\n",
    "    sys.stdout.write(f'{bgp[\"status\"]}')  \n",
    "    sys.stdout.write(colours.Off)\n",
    "    sys.stdout.write('\\n\\n')"
   ]
  },
  {
   "cell_type": "code",
   "execution_count": 7,
   "id": "629de3da-9018-4319-8ca3-825e6027d049",
   "metadata": {},
   "outputs": [
    {
     "name": "stdout",
     "output_type": "stream",
     "text": [
      "uploading schema.step.xml using config Stibo Importer\n",
      "waiting for BGP_417702\n",
      "BGP_417702: 2024-11-13T10:57:36+11:00 -> \u001b[32msucceeded\u001b[0m\n",
      "\n"
     ]
    }
   ],
   "source": [
    "push_it(config_id, 'schema.step.xml', detailed=True)"
   ]
  },
  {
   "cell_type": "code",
   "execution_count": 11,
   "id": "be7688e0-8c95-4533-9aaf-b26a4c1e1d4b",
   "metadata": {},
   "outputs": [
    {
     "name": "stdout",
     "output_type": "stream",
     "text": [
      "2024-11-11 12:50:30 AEDT\n"
     ]
    }
   ],
   "source": [
    "now = datetime.now(timezone.utc)\n",
    "then = now.astimezone(ltz)\n",
    "\n",
    "print(f'{then:%Y-%m-%d %H:%M:%S %Z}')"
   ]
  },
  {
   "cell_type": "code",
   "execution_count": null,
   "id": "1bc5e49d-f60f-4bd2-90e4-50d3ab26b5b7",
   "metadata": {},
   "outputs": [],
   "source": []
  }
 ],
 "metadata": {
  "kernelspec": {
   "display_name": "Python 3 (ipykernel)",
   "language": "python",
   "name": "python3"
  },
  "language_info": {
   "codemirror_mode": {
    "name": "ipython",
    "version": 3
   },
   "file_extension": ".py",
   "mimetype": "text/x-python",
   "name": "python",
   "nbconvert_exporter": "python",
   "pygments_lexer": "ipython3",
   "version": "3.10.12"
  }
 },
 "nbformat": 4,
 "nbformat_minor": 5
}
