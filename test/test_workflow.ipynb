{
 "cells": [
  {
   "cell_type": "markdown",
   "id": "c7917c08-dfcc-4657-b755-cb4cb63c96d3",
   "metadata": {},
   "source": [
    "# STEP REST client examples using python\n",
    "---"
   ]
  },
  {
   "cell_type": "code",
   "execution_count": 2,
   "id": "9e35e3f7-a7cd-4b58-8f45-eeaeecdeabe8",
   "metadata": {
    "tags": []
   },
   "outputs": [],
   "source": [
    "import os, re, sys, gc, time, json, xmltodict, unittest, logging\n",
    "from collections import OrderedDict\n",
    "from datetime import datetime\n",
    "from Perdy.pretty import prettyPrintLn\n",
    "from Baubles.Colours import Colours\n",
    "\n",
    "sys.path.insert(0, '..')\n",
    "from STEP.REST import *"
   ]
  },
  {
   "cell_type": "code",
   "execution_count": 4,
   "id": "0761a975-a6a3-4c7a-b857-f5c41c830e14",
   "metadata": {
    "tags": []
   },
   "outputs": [],
   "source": [
    "colours = Colours()\n",
    "\n",
    "config = {\n",
    "\t'-H':'https://stibo-australia-demo.scloud.stibo.com',\n",
    "\t'-U':'DAVE',\n",
    "\t'-C':'GL',\n",
    "}\n",
    "\n",
    "workflow_id = 'WX_Product_WF'\n",
    "state_id = 'WX_Manual_Approve'\n",
    "product_id = 'WX_0'\n",
    "reference_id = 'WX_Product_Tag_Classification'\n",
    "event_id = 'On_Hold'\n",
    "cache = dict()"
   ]
  },
  {
   "cell_type": "code",
   "execution_count": 6,
   "id": "af53adbb-065e-432b-adf5-8f3be16d2ae0",
   "metadata": {
    "tags": []
   },
   "outputs": [],
   "source": [
    "# please use your own favourite password cache here, credstash\n",
    "from Spanners.Squirrel import Squirrel\n",
    "squirrel = Squirrel()\n",
    "config['-P'] = squirrel.get(f'stibo:{config[\"-H\"]}:{config[\"-U\"]}')"
   ]
  },
  {
   "cell_type": "code",
   "execution_count": 4,
   "id": "de142a7b-5af9-448b-9815-dbd91c99829b",
   "metadata": {
    "tags": []
   },
   "outputs": [],
   "source": [
    "def render(result):\n",
    "\tif not result: \n",
    "\t\treturn\n",
    "\tif type(result) in [OrderedDict, list, dict]:\n",
    "\t\tprettyPrintLn(result)\n",
    "\telse:\n",
    "\t\tprint(result)"
   ]
  },
  {
   "cell_type": "markdown",
   "id": "2d6f8803-75a3-4ff6-8857-70a07679afdd",
   "metadata": {},
   "source": [
    "---\n",
    "# Test_01_Classifications"
   ]
  },
  {
   "cell_type": "code",
   "execution_count": 5,
   "id": "20555e78-181d-4e9b-bc4e-9aa8ebe32f5d",
   "metadata": {},
   "outputs": [],
   "source": [
    "classifications = Classifications(asXML=False)\n",
    "classifications.hostname = config['-H']\n",
    "classifications.username = config['-U']\n",
    "classifications.context = config['-C']\n",
    "classifications.password = config['-P']"
   ]
  },
  {
   "cell_type": "markdown",
   "id": "0f0cc26a-3e43-466f-9540-48755bc72640",
   "metadata": {},
   "source": [
    "## test_01_create_hierarchy"
   ]
  },
  {
   "cell_type": "code",
   "execution_count": 6,
   "id": "27773c82-c869-45b8-a6da-43f3249751f2",
   "metadata": {},
   "outputs": [
    {
     "name": "stdout",
     "output_type": "stream",
     "text": [
      "\u001b[32mWX Tags\u001b[0m\n",
      "\u001b[35m{\u001b[0m\n",
      "  \"\u001b[32mcreated\u001b[0m\" : \"\u001b[31m2023-11-15 14:00:26\u001b[0m\"\n",
      "\u001b[35m}\u001b[0m\n",
      "\u001b[35m{\u001b[0m\n",
      "  \"\u001b[36mclassification\u001b[0m\" : \u001b[35m{\u001b[0m\n",
      "    \"\u001b[32mid\u001b[0m\" : \"\u001b[31mWX_Tag_Class_10020688\u001b[0m\",\n",
      "    \"\u001b[32mname\u001b[0m\" : \"\u001b[31mcreated 2023-11-15 14:00:26\u001b[0m\",\n",
      "    \"\u001b[32mobjectType\u001b[0m\" : \"\u001b[31mWX_Tag\u001b[0m\",\n",
      "    \"\u001b[32mparent\u001b[0m\" : \"\u001b[31mWX_Tags\u001b[0m\",\n",
      "    \"\u001b[36mvalues\u001b[0m\" : \u001b[35m{\u001b[0m\n",
      "      \"\u001b[36mWX_path\u001b[0m\" : \u001b[35m{\u001b[0m\n",
      "        \"\u001b[32mcalculated\u001b[0m\" : \u001b[31mtrue\u001b[0m,\n",
      "        \"\u001b[32mcontextLocal\u001b[0m\" : \u001b[31mtrue\u001b[0m,\n",
      "        \"\u001b[36mvalue\u001b[0m\" : \u001b[35m{\u001b[0m\n",
      "          \"\u001b[32mvalue\u001b[0m\" : \"\u001b[31mClassification 1 root/WX Class Root/WX Tags/created 2023-11-15 14:00:26\u001b[0m\",\n",
      "          \"\u001b[32mvalueId\u001b[0m\" : \u001b[0mnull\u001b[0m,\n",
      "          \"\u001b[32munit\u001b[0m\" : \u001b[0mnull\u001b[0m\n",
      "        \u001b[35m}\u001b[0m\n",
      "      \u001b[35m}\u001b[0m,\n",
      "      \"\u001b[36mWX_object_type\u001b[0m\" : \u001b[35m{\u001b[0m\n",
      "        \"\u001b[32mcalculated\u001b[0m\" : \u001b[31mtrue\u001b[0m,\n",
      "        \"\u001b[32mcontextLocal\u001b[0m\" : \u001b[31mtrue\u001b[0m,\n",
      "        \"\u001b[36mvalue\u001b[0m\" : \u001b[35m{\u001b[0m\n",
      "          \"\u001b[32mvalue\u001b[0m\" : \"\u001b[31mWX Tag\u001b[0m\",\n",
      "          \"\u001b[32mvalueId\u001b[0m\" : \u001b[0mnull\u001b[0m,\n",
      "          \"\u001b[32munit\u001b[0m\" : \u001b[0mnull\u001b[0m\n",
      "        \u001b[35m}\u001b[0m\n",
      "      \u001b[35m}\u001b[0m\n",
      "    \u001b[35m}\u001b[0m,\n",
      "    \"\u001b[36mreferences\u001b[0m\" : \u001b[35m{\u001b[0m\n",
      "    \u001b[35m}\u001b[0m,\n",
      "    \"\u001b[32mattributeLinks\u001b[0m\" : \u001b[36m[\u001b[0m\n",
      "    \u001b[36m]\u001b[0m\n",
      "  \u001b[35m}\u001b[0m\n",
      "\u001b[35m}\u001b[0m\n"
     ]
    }
   ],
   "source": [
    "root = classifications.get('WX_Tags')\n",
    "#render(root)\n",
    "print(f'{colours.Green}{root[\"name\"]}{colours.Off}')\n",
    "assert(root)\n",
    "#render(root)\n",
    "assert(root['id'] == 'WX_Tags')\n",
    "\n",
    "now = datetime.now()\n",
    "dts = f'{now:%Y-%m-%d %H:%M:%S}'\n",
    "render(dict(created=dts))\n",
    "\n",
    "classification = classifications.create(root['id'], 'WX_Tag', f'created {dts}')\n",
    "render(dict(classification=classification))\n",
    "assert(classification)\n",
    "\n",
    "if 'classifications' not in cache.keys():\n",
    "\tcache['classifications'] = list()\n",
    "\n",
    "cache['classifications'].append(classification['id'])"
   ]
  },
  {
   "cell_type": "markdown",
   "id": "9fadf181-c57b-492f-add0-05d04fc95bb2",
   "metadata": {},
   "source": [
    "---\n",
    "# Test_01_Products"
   ]
  },
  {
   "cell_type": "code",
   "execution_count": 7,
   "id": "7e64e275-68d5-4a18-8e09-51f1e80de9da",
   "metadata": {},
   "outputs": [],
   "source": [
    "products = Products(asXML=False)\n",
    "products.hostname = config['-H']\n",
    "products.username = config['-U']\n",
    "products.context = config['-C']\n",
    "products.password = config['-P']"
   ]
  },
  {
   "cell_type": "markdown",
   "id": "b8d5380c-4ff7-47c0-93f8-8c24320e2dfd",
   "metadata": {},
   "source": [
    "## test_01_find_hierarchy"
   ]
  },
  {
   "cell_type": "code",
   "execution_count": 8,
   "id": "ee067995-7e99-4b78-b057-132de3f619f0",
   "metadata": {},
   "outputs": [
    {
     "name": "stdout",
     "output_type": "stream",
     "text": [
      "\u001b[32mGroceries\u001b[0m\n",
      "\u001b[36m[\u001b[0m\n",
      "  \"\u001b[31mWX_7FC56270E7A70FA81A5935B72EACBE29\u001b[0m\",\n",
      "  \"\u001b[31mWX_148940665E38701A34152297D3DCDB62\u001b[0m\",\n",
      "  \"\u001b[31mWX_D41D8CD98F00B204E9800998ECF8427E\u001b[0m\"\n",
      "\u001b[36m]\u001b[0m\n",
      "\u001b[36m[\u001b[0m\n",
      "  \"\u001b[31mWX_FA73C792C8239E904EEB67FC4434CA85\u001b[0m\"\n",
      "\u001b[36m]\u001b[0m\n",
      "\u001b[36m[\u001b[0m\n",
      "  \"\u001b[31mWX_03D994023612FCE11D588B24854C5050\u001b[0m\"\n",
      "\u001b[36m]\u001b[0m\n",
      "\u001b[36m[\u001b[0m\n",
      "  \"\u001b[31mWX_0\u001b[0m\",\n",
      "  \"\u001b[31mWX_Product_9915614\u001b[0m\",\n",
      "  \"\u001b[31mWX_Product_9915617\u001b[0m\",\n",
      "  \"\u001b[31mWX_Product_9915619\u001b[0m\",\n",
      "  \"\u001b[31mWX_Product_9915621\u001b[0m\",\n",
      "  \"\u001b[31mWX_Product_9915623\u001b[0m\",\n",
      "  \"\u001b[31mWX_Product_9915642\u001b[0m\",\n",
      "  \"\u001b[31mWX_Product_9915655\u001b[0m\",\n",
      "  \"\u001b[31mWX_Product_9926916\u001b[0m\",\n",
      "  \"\u001b[31mWX_Product_9941520\u001b[0m\",\n",
      "  \"\u001b[31mWX_Product_9941522\u001b[0m\",\n",
      "  \"\u001b[31mWX_Product_10016447\u001b[0m\",\n",
      "  \"\u001b[31mWX_Product_10016449\u001b[0m\",\n",
      "  \"\u001b[31mWX_Product_10020677\u001b[0m\",\n",
      "  \"\u001b[31mWX_Product_10020684\u001b[0m\"\n",
      "\u001b[36m]\u001b[0m\n",
      "\u001b[35m{\u001b[0m\n",
      "  \"\u001b[32mparent_id\u001b[0m\" : \"\u001b[31mWX_03D994023612FCE11D588B24854C5050\u001b[0m\"\n",
      "\u001b[35m}\u001b[0m\n"
     ]
    }
   ],
   "source": [
    "root = products.get('WX_Root')\n",
    "print(f'{colours.Green}{root[\"name\"]}{colours.Off}')\n",
    "assert(root)\n",
    "#render(root)\n",
    "assert(root['id'] == 'WX_Root')\n",
    "\n",
    "children = products.children(root['id'])\n",
    "render(children)\n",
    "assert(children)\n",
    "assert(len(children))\n",
    "\n",
    "l1 = products.children(children[0])\n",
    "render(l1)\n",
    "assert(l1)\n",
    "assert(len(l1))\n",
    "\n",
    "l2 = products.children(l1[0])\n",
    "render(l2)\n",
    "assert(l2)\n",
    "assert(len(l2))\n",
    "\n",
    "l3 = products.children(l2[0])\n",
    "render(l3)\n",
    "assert(l3)\n",
    "assert(len(l3))\n",
    "\n",
    "product = products.get(l3[0])\n",
    "#render(product)\n",
    "assert(product)\n",
    "assert('id' in product.keys())\n",
    "assert(product['id'] == product_id)\n",
    "\n",
    "parent_id = product['parent']\n",
    "cache['parent_id'] = parent_id\n",
    "render(dict(parent_id=parent_id))"
   ]
  },
  {
   "cell_type": "markdown",
   "id": "ac6bf709-c923-45c0-b856-881a801f5d55",
   "metadata": {},
   "source": [
    "## test_02_create_product"
   ]
  },
  {
   "cell_type": "code",
   "execution_count": 9,
   "id": "d4e3f05d-70a6-438b-b1ab-169ca4cfeb71",
   "metadata": {},
   "outputs": [
    {
     "name": "stdout",
     "output_type": "stream",
     "text": [
      "\u001b[35m{\u001b[0m\n",
      "  \"\u001b[32mcreated\u001b[0m\" : \"\u001b[31m2023-11-15 14:00:26\u001b[0m\"\n",
      "\u001b[35m}\u001b[0m\n",
      "\u001b[35m{\u001b[0m\n",
      "  \"\u001b[32mid\u001b[0m\" : \"\u001b[31mWX_Product_10020689\u001b[0m\",\n",
      "  \"\u001b[32mname\u001b[0m\" : \"\u001b[31mcreated 2023-11-15 14:00:26\u001b[0m\",\n",
      "  \"\u001b[32mobjectType\u001b[0m\" : \"\u001b[31mWX_Product\u001b[0m\",\n",
      "  \"\u001b[32mparent\u001b[0m\" : \"\u001b[31mWX_03D994023612FCE11D588B24854C5050\u001b[0m\",\n",
      "  \"\u001b[36mvalues\u001b[0m\" : \u001b[35m{\u001b[0m\n",
      "    \"\u001b[36mWX_activation_date\u001b[0m\" : \u001b[35m{\u001b[0m\n",
      "      \"\u001b[32mcalculated\u001b[0m\" : \u001b[31mfalse\u001b[0m,\n",
      "      \"\u001b[32mcontextLocal\u001b[0m\" : \u001b[31mtrue\u001b[0m,\n",
      "      \"\u001b[36mvalue\u001b[0m\" : \u001b[35m{\u001b[0m\n",
      "        \"\u001b[32mvalue\u001b[0m\" : \"\u001b[31m2023-11-15 14:00:26\u001b[0m\",\n",
      "        \"\u001b[32mvalueId\u001b[0m\" : \u001b[0mnull\u001b[0m,\n",
      "        \"\u001b[32munit\u001b[0m\" : \u001b[0mnull\u001b[0m\n",
      "      \u001b[35m}\u001b[0m\n",
      "    \u001b[35m}\u001b[0m,\n",
      "    \"\u001b[36mWX_path\u001b[0m\" : \u001b[35m{\u001b[0m\n",
      "      \"\u001b[32mcalculated\u001b[0m\" : \u001b[31mtrue\u001b[0m,\n",
      "      \"\u001b[32mcontextLocal\u001b[0m\" : \u001b[31mtrue\u001b[0m,\n",
      "      \"\u001b[36mvalue\u001b[0m\" : \u001b[35m{\u001b[0m\n",
      "        \"\u001b[32mvalue\u001b[0m\" : \"\u001b[31mPrimary Hierarchy/Products/Groceries/A/B/C/created 2023-11-15 14:00:26\u001b[0m\",\n",
      "        \"\u001b[32mvalueId\u001b[0m\" : \u001b[0mnull\u001b[0m,\n",
      "        \"\u001b[32munit\u001b[0m\" : \u001b[0mnull\u001b[0m\n",
      "      \u001b[35m}\u001b[0m\n",
      "    \u001b[35m}\u001b[0m,\n",
      "    \"\u001b[36mWX_stock_total\u001b[0m\" : \u001b[35m{\u001b[0m\n",
      "      \"\u001b[32mcalculated\u001b[0m\" : \u001b[31mtrue\u001b[0m,\n",
      "      \"\u001b[32mcontextLocal\u001b[0m\" : \u001b[31mtrue\u001b[0m,\n",
      "      \"\u001b[36mvalue\u001b[0m\" : \u001b[35m{\u001b[0m\n",
      "        \"\u001b[32mvalue\u001b[0m\" : \"\u001b[31m0\u001b[0m\",\n",
      "        \"\u001b[32mvalueId\u001b[0m\" : \u001b[0mnull\u001b[0m,\n",
      "        \"\u001b[32munit\u001b[0m\" : \u001b[0mnull\u001b[0m\n",
      "      \u001b[35m}\u001b[0m\n",
      "    \u001b[35m}\u001b[0m,\n",
      "    \"\u001b[36mWX_fn_contains_nuts\u001b[0m\" : \u001b[35m{\u001b[0m\n",
      "      \"\u001b[32mcalculated\u001b[0m\" : \u001b[31mtrue\u001b[0m,\n",
      "      \"\u001b[32mcontextLocal\u001b[0m\" : \u001b[31mtrue\u001b[0m,\n",
      "      \"\u001b[36mvalue\u001b[0m\" : \u001b[35m{\u001b[0m\n",
      "        \"\u001b[32mvalue\u001b[0m\" : \"\u001b[31m0\u001b[0m\",\n",
      "        \"\u001b[32mvalueId\u001b[0m\" : \u001b[0mnull\u001b[0m,\n",
      "        \"\u001b[32munit\u001b[0m\" : \u001b[0mnull\u001b[0m\n",
      "      \u001b[35m}\u001b[0m\n",
      "    \u001b[35m}\u001b[0m,\n",
      "    \"\u001b[36mWX_object_type\u001b[0m\" : \u001b[35m{\u001b[0m\n",
      "      \"\u001b[32mcalculated\u001b[0m\" : \u001b[31mtrue\u001b[0m,\n",
      "      \"\u001b[32mcontextLocal\u001b[0m\" : \u001b[31mtrue\u001b[0m,\n",
      "      \"\u001b[36mvalue\u001b[0m\" : \u001b[35m{\u001b[0m\n",
      "        \"\u001b[32mvalue\u001b[0m\" : \"\u001b[31mWX Product\u001b[0m\",\n",
      "        \"\u001b[32mvalueId\u001b[0m\" : \u001b[0mnull\u001b[0m,\n",
      "        \"\u001b[32munit\u001b[0m\" : \u001b[0mnull\u001b[0m\n",
      "      \u001b[35m}\u001b[0m\n",
      "    \u001b[35m}\u001b[0m,\n",
      "    \"\u001b[36mWX_brand_name\u001b[0m\" : \u001b[35m{\u001b[0m\n",
      "      \"\u001b[32mcalculated\u001b[0m\" : \u001b[31mfalse\u001b[0m,\n",
      "      \"\u001b[32mcontextLocal\u001b[0m\" : \u001b[31mtrue\u001b[0m,\n",
      "      \"\u001b[36mvalue\u001b[0m\" : \u001b[35m{\u001b[0m\n",
      "        \"\u001b[32mvalue\u001b[0m\" : \"\u001b[31mcreated by rest\u001b[0m\",\n",
      "        \"\u001b[32mvalueId\u001b[0m\" : \u001b[0mnull\u001b[0m,\n",
      "        \"\u001b[32munit\u001b[0m\" : \u001b[0mnull\u001b[0m\n",
      "      \u001b[35m}\u001b[0m\n",
      "    \u001b[35m}\u001b[0m\n",
      "  \u001b[35m}\u001b[0m,\n",
      "  \"\u001b[36mreferences\u001b[0m\" : \u001b[35m{\u001b[0m\n",
      "  \u001b[35m}\u001b[0m,\n",
      "  \"\u001b[32mattributeLinks\u001b[0m\" : \u001b[36m[\u001b[0m\n",
      "  \u001b[36m]\u001b[0m,\n",
      "  \"\u001b[36mdataContainers\u001b[0m\" : \u001b[35m{\u001b[0m\n",
      "  \u001b[35m}\u001b[0m\n",
      "\u001b[35m}\u001b[0m\n"
     ]
    }
   ],
   "source": [
    "assert('parent_id' in cache.keys())\n",
    "parent_id = cache['parent_id']\n",
    "\n",
    "now = datetime.now()\n",
    "dts = f'{now:%Y-%m-%d %H:%M:%S}'\n",
    "render(dict(created=dts))\n",
    "\n",
    "child = products.create(parent_id, 'WX_Product', f'created {dts}', values=[\n",
    "\tf'WX_activation_date={dts}',\n",
    "\tf'WX_brand_name=created by rest',\n",
    "])\n",
    "\n",
    "render(child)\n",
    "assert(child)\n",
    "assert('id' in child.keys())\n",
    "\n",
    "if 'products' not in cache.keys():\n",
    "\tcache['products'] = list()\n",
    "\n",
    "cache['products'].append(child['id'])\n"
   ]
  },
  {
   "cell_type": "markdown",
   "id": "e02fab10-e26a-4986-bc02-d318de358b8f",
   "metadata": {},
   "source": [
    "## test_03_update_product"
   ]
  },
  {
   "cell_type": "code",
   "execution_count": 10,
   "id": "35f70561-a439-4835-b6c7-e8361ea496fe",
   "metadata": {},
   "outputs": [
    {
     "name": "stdout",
     "output_type": "stream",
     "text": [
      "\u001b[35m{\u001b[0m\n",
      "  \"\u001b[32mupdated\u001b[0m\" : \"\u001b[31m2023-11-15 14:00:26\u001b[0m\"\n",
      "\u001b[35m}\u001b[0m\n",
      "\u001b[35m{\u001b[0m\n",
      "  \"\u001b[32mcalculated\u001b[0m\" : \u001b[31mfalse\u001b[0m,\n",
      "  \"\u001b[32mcontextLocal\u001b[0m\" : \u001b[31mtrue\u001b[0m,\n",
      "  \"\u001b[36mvalue\u001b[0m\" : \u001b[35m{\u001b[0m\n",
      "    \"\u001b[32mvalue\u001b[0m\" : \"\u001b[31mmodified 2023-11-15 14:00:26\u001b[0m\",\n",
      "    \"\u001b[32mvalueId\u001b[0m\" : \u001b[0mnull\u001b[0m,\n",
      "    \"\u001b[32munit\u001b[0m\" : \u001b[0mnull\u001b[0m\n",
      "  \u001b[35m}\u001b[0m\n",
      "\u001b[35m}\u001b[0m\n"
     ]
    }
   ],
   "source": [
    "assert('products' in cache.keys())\n",
    "\n",
    "now = datetime.now()\n",
    "dts = f'{now:%Y-%m-%d %H:%M:%S}'\n",
    "render(dict(updated=dts))\n",
    "\n",
    "for id in cache['products']:\n",
    "\n",
    "\tupdate = products.update(id, 'WX_description', f'modified {dts}')\n",
    "\trender(update)\n",
    "\tassert(update)"
   ]
  },
  {
   "cell_type": "markdown",
   "id": "592323f5-c326-48d1-80db-f2f99427e979",
   "metadata": {},
   "source": [
    "## test_04_range_product"
   ]
  },
  {
   "cell_type": "code",
   "execution_count": 11,
   "id": "f06f940a-819a-4cda-8f58-6179647073d6",
   "metadata": {},
   "outputs": [
    {
     "name": "stdout",
     "output_type": "stream",
     "text": [
      "\u001b[35m{\u001b[0m\n",
      "  \"\u001b[32mranged\u001b[0m\" : \"\u001b[31m2023-11-15 14:00:26\u001b[0m\"\n",
      "\u001b[35m}\u001b[0m\n",
      "\u001b[35m{\u001b[0m\n",
      "  \"\u001b[32mreferences\u001b[0m\" : \u001b[36m[\u001b[0m\n",
      "  \u001b[36m]\u001b[0m\n",
      "\u001b[35m}\u001b[0m\n",
      "\u001b[35m{\u001b[0m\n",
      "  \"\u001b[36mcreating\u001b[0m\" : \u001b[35m{\u001b[0m\n",
      "    \"\u001b[32mcontextLocal\u001b[0m\" : \u001b[31mtrue\u001b[0m,\n",
      "    \"\u001b[32mtarget\u001b[0m\" : \"\u001b[31mWX_Tag_Class_10020688\u001b[0m\",\n",
      "    \"\u001b[32mtargetType\u001b[0m\" : \"\u001b[31mclassification\u001b[0m\",\n",
      "    \"\u001b[36mvalues\u001b[0m\" : \u001b[35m{\u001b[0m\n",
      "    \u001b[35m}\u001b[0m,\n",
      "    \"\u001b[32mentity\u001b[0m\" : \u001b[0mnull\u001b[0m\n",
      "  \u001b[35m}\u001b[0m\n",
      "\u001b[35m}\u001b[0m\n"
     ]
    }
   ],
   "source": [
    "assert('products' in cache.keys())\n",
    "\n",
    "now = datetime.now()\n",
    "dts = f'{now:%Y-%m-%d %H:%M:%S}'\n",
    "render(dict(ranged=dts))\n",
    "\n",
    "for id in cache['products']:\n",
    "\n",
    "\tresult = products.references(id, reference_id)\n",
    "\trender(result)\n",
    "\n",
    "\tif 'references' in result.keys():\n",
    "\t\tfor reference in result['references']:\n",
    "\t\t\trender(dict(existing=reference))\n",
    "\t\t\tif reference['target'] in cache['classifications']:\n",
    "\t\t\t\tremoved = products.reference(id, reference_id, reference['target'], targetType='C', remove=True)\n",
    "\t\t\t\trender(removed)\n",
    "\n",
    "\tfor classification_id in cache['classifications']:\n",
    "\t\treference = products.reference(product_id, reference_id, classification_id, targetType='C')\n",
    "\t\trender(dict(creating=reference))"
   ]
  },
  {
   "cell_type": "markdown",
   "id": "a7140572-1f9c-4da7-a0b5-9082eafd0373",
   "metadata": {},
   "source": [
    "## test_05_delete_product"
   ]
  },
  {
   "cell_type": "code",
   "execution_count": 12,
   "id": "9fe8c858-50fa-490c-b633-852fe550c686",
   "metadata": {},
   "outputs": [
    {
     "name": "stdout",
     "output_type": "stream",
     "text": [
      "\u001b[35m{\u001b[0m\n",
      "  \"\u001b[32mdeleted\u001b[0m\" : \"\u001b[31m2023-11-15 14:00:27\u001b[0m\"\n",
      "\u001b[35m}\u001b[0m\n",
      "WX_Product_10020689\n",
      "{\"httpStatus\":400,\"message\":\"Found objections. 1/1 : step://product?contextid=GL&id=WX_Product_10020689&workspaceid=Main is in Workflow step://stepworkflow?id=WX_Product_WF. : step://product?contextid=GL&id=WX_Product_10020689&workspaceid=Main is in STEP Workflow step://stepworkflow?id=WX_Product_WF.\",\"httpReason\":\"Bad Request\"}\n"
     ]
    },
    {
     "name": "stderr",
     "output_type": "stream",
     "text": [
      "<Response [400]>: {\"httpStatus\":400,\"message\":\"Found objections. 1/1 : step://product?contextid=GL&id=WX_Product_10020689&workspaceid=Main is in Workflow step://stepworkflow?id=WX_Product_WF. : step://product?contextid=GL&id=WX_Product_10020689&workspaceid=Main is in STEP Workflow step://stepworkflow?id=WX_Product_WF.\",\"httpReason\":\"Bad Request\"}\n"
     ]
    }
   ],
   "source": [
    "assert('products' in cache.keys())\n",
    "\n",
    "now = datetime.now()\n",
    "dts = f'{now:%Y-%m-%d %H:%M:%S}'\n",
    "render(dict(deleted=dts))\n",
    "\n",
    "items = cache['products']\n",
    "\n",
    "for i in range(len(items)):\n",
    "\tid = items.pop(0)\n",
    "\t#product_id = items[i]\n",
    "\tprint(id)\n",
    "\tupdate = products.delete(id)\n",
    "\trender(update)\n",
    "\t#assert(update)"
   ]
  },
  {
   "cell_type": "markdown",
   "id": "c94cad49-9267-4786-a230-ceafcc251de9",
   "metadata": {},
   "source": [
    "---\n",
    "# Test_03_Workflows"
   ]
  },
  {
   "cell_type": "code",
   "execution_count": 13,
   "id": "fd55cf34-9f8a-43a6-be1c-e9eb0ec00c69",
   "metadata": {},
   "outputs": [],
   "source": [
    "workflows = Workflow(asXML=False)\n",
    "workflows.hostname = config['-H']\n",
    "workflows.username = config['-U']\n",
    "workflows.context = config['-C']\n",
    "workflows.password = config['-P']\n",
    "\n",
    "tasks = Task(asXML=False)\n",
    "tasks.hostname = config['-H']\n",
    "tasks.username = 'WX_CORE_1'\n",
    "tasks.context = config['-C']\n",
    "tasks.password = config['-P']"
   ]
  },
  {
   "cell_type": "markdown",
   "id": "df02836c-2507-4a50-b22a-076dc94b9188",
   "metadata": {},
   "source": [
    "## take item out of workflow so we can start with it not in a workflow"
   ]
  },
  {
   "cell_type": "code",
   "execution_count": 14,
   "id": "4d3aa205-fcb1-4418-8d91-7a71e3e20726",
   "metadata": {},
   "outputs": [
    {
     "name": "stdout",
     "output_type": "stream",
     "text": [
      "\u001b[32mKilling: eyJ3b3JrZmxvd0lkIjoiV1hfUHJvZHVjdF9XRiIsIm5vZGVJZCI6IldYXzAiLCJub2RlVHlwZSI6InByb2R1Y3QifQ==\u001b[0m\n"
     ]
    }
   ],
   "source": [
    "task_ids = tasks.search(workflow_id, state_id='', node_id=product_id, id_as_base64=True)\n",
    "for task_id in task_ids:\n",
    "\ttask = tasks.get(task_id)\n",
    "\t#render(task)\n",
    "\n",
    "\tif 'instance' in task.keys():\n",
    "\t\tinstance_id = task['instance']\n",
    "\t\tworkflows.terminate(workflow_id, instance_id)\n",
    "\t\tprint(f'{colours.Green}Killing: {instance_id}{colours.Off}')"
   ]
  },
  {
   "cell_type": "markdown",
   "id": "06c598c8-ae62-4344-803a-862e7f1dae9a",
   "metadata": {},
   "source": [
    "## test_01_start_workflow"
   ]
  },
  {
   "cell_type": "code",
   "execution_count": 15,
   "id": "cc93883d-f4fb-4c39-b131-decf4753cd45",
   "metadata": {},
   "outputs": [
    {
     "name": "stdout",
     "output_type": "stream",
     "text": [
      "\u001b[35m{\u001b[0m\n",
      "  \"\u001b[32mid\u001b[0m\" : \"\u001b[31mWX_Product_WF\u001b[0m\",\n",
      "  \"\u001b[32mname\u001b[0m\" : \"\u001b[31mWX_Product_WF\u001b[0m\",\n",
      "  \"\u001b[32mvalidObjectTypes\u001b[0m\" : \u001b[36m[\u001b[0m\n",
      "    \"\u001b[31mWX_Product\u001b[0m\"\n",
      "  \u001b[36m]\u001b[0m\n",
      "\u001b[35m}\u001b[0m\n",
      "\u001b[32mStarting: eyJ3b3JrZmxvd0lkIjoiV1hfUHJvZHVjdF9XRiIsIm5vZGVJZCI6IldYXzAiLCJub2RlVHlwZSI6InByb2R1Y3QifQ==\u001b[0m\n",
      "waiting ...\n",
      "assumed started\n"
     ]
    }
   ],
   "source": [
    "workflow = workflows.get(workflow_id)\n",
    "render(workflow)\n",
    "assert workflow\n",
    "\n",
    "if 'instances' not in cache.keys():\n",
    "\tcache['instances'] = list()\n",
    "\n",
    "instance_id = workflows.start(workflow_id, product_id, id_as_base64=True)\n",
    "print(f'{colours.Green}Starting: {instance_id}{colours.Off}')\n",
    "assert(instance_id)\n",
    "cache['instances'].append(instance_id)\n",
    "\n",
    "print('waiting ...')\n",
    "time.sleep(3)\n",
    "print('assumed started')"
   ]
  },
  {
   "cell_type": "markdown",
   "id": "3463e6f0-7b0d-41ee-98d7-4d2d5e825afa",
   "metadata": {},
   "source": [
    "## test_03_search_tasks"
   ]
  },
  {
   "cell_type": "code",
   "execution_count": 16,
   "id": "7669c1e6-0db2-4469-82a6-03b859244dd0",
   "metadata": {},
   "outputs": [
    {
     "name": "stdout",
     "output_type": "stream",
     "text": [
      "\u001b[35m{\u001b[0m\n",
      "  \"\u001b[32mid\u001b[0m\" : \"\u001b[31meyJ3b3JrZmxvd0lkIjoiV1hfUHJvZHVjdF9XRiIsInN0YXRlSWQiOiJXWF9NYW51YWxfQXBwcm92ZSIsIm5vZGVJZCI6IldYXzAiLCJub2RlVHlwZSI6InByb2R1Y3QifQ==\u001b[0m\",\n",
      "  \"\u001b[36mnode\u001b[0m\" : \u001b[35m{\u001b[0m\n",
      "    \"\u001b[32mid\u001b[0m\" : \"\u001b[31mWX_0\u001b[0m\",\n",
      "    \"\u001b[32mtype\u001b[0m\" : \"\u001b[31mproduct\u001b[0m\"\n",
      "  \u001b[35m}\u001b[0m,\n",
      "  \"\u001b[32mworkflow\u001b[0m\" : \"\u001b[31mWX_Product_WF\u001b[0m\",\n",
      "  \"\u001b[32mstate\u001b[0m\" : \"\u001b[31mWX_Manual_Approve\u001b[0m\",\n",
      "  \"\u001b[32muserAssignee\u001b[0m\" : \u001b[0mnull\u001b[0m,\n",
      "  \"\u001b[32mgroupAssignee\u001b[0m\" : \"\u001b[31mWX_Product_Core\u001b[0m\",\n",
      "  \"\u001b[32mdeadline\u001b[0m\" : \u001b[0mnull\u001b[0m,\n",
      "  \"\u001b[32mstatusFlag\u001b[0m\" : \u001b[0mnull\u001b[0m,\n",
      "  \"\u001b[32mtaskCreationTime\u001b[0m\" : \"\u001b[31m2023-11-15T14:00:28+11:00\u001b[0m\",\n",
      "  \"\u001b[32minstance\u001b[0m\" : \"\u001b[31meyJ3b3JrZmxvd0lkIjoiV1hfUHJvZHVjdF9XRiIsIm5vZGVJZCI6IldYXzAiLCJub2RlVHlwZSI6InByb2R1Y3QifQ==\u001b[0m\"\n",
      "\u001b[35m}\u001b[0m\n",
      "Task State: \u001b[32mWX_Manual_Approve\u001b[0m\n"
     ]
    }
   ],
   "source": [
    "cache['tasks'] = list()\n",
    "\n",
    "task_ids = tasks.search(workflow_id, state_id='', node_id=product_id, id_as_base64=True)\n",
    "for task_id in task_ids:\n",
    "\ttask = tasks.get(task_id)\n",
    "\trender(task)\n",
    "\n",
    "\tif 'instance' in task.keys():\n",
    "\t\tassert(task['instance'] in cache['instances'])\n",
    "\n",
    "\t\tprint(f'Task State: {colours.Green}{task[\"state\"]}{colours.Off}')\n",
    "\t\tassert(task['state'] == state_id)\n",
    "\n",
    "\t\tcache['tasks'].append(task['id'])"
   ]
  },
  {
   "cell_type": "markdown",
   "id": "19ce7a10-6174-4b19-8e76-f6402ad92ab7",
   "metadata": {},
   "source": [
    "## test_04_interact_tasks"
   ]
  },
  {
   "cell_type": "code",
   "execution_count": 17,
   "id": "0e2a6301-0bb5-434c-b3b0-f2e26e9440b0",
   "metadata": {},
   "outputs": [
    {
     "name": "stdout",
     "output_type": "stream",
     "text": [
      "\u001b[35m{\u001b[0m\n",
      "  \"\u001b[32mclaimed\u001b[0m\" : \"\u001b[31m\u001b[0m\"\n",
      "\u001b[35m}\u001b[0m\n",
      "\u001b[35m{\u001b[0m\n",
      "  \"\u001b[32mevents\u001b[0m\" : \u001b[36m[\u001b[0m\n",
      "    \u001b[35m{\u001b[0m\n",
      "      \"\u001b[32mid\u001b[0m\" : \"\u001b[31mOn_Hold\u001b[0m\",\n",
      "      \"\u001b[32manonymous\u001b[0m\" : \u001b[31mfalse\u001b[0m\n",
      "    \u001b[35m}\u001b[0m,\n",
      "    \u001b[35m{\u001b[0m\n",
      "      \"\u001b[32mid\u001b[0m\" : \"\u001b[31mRejected\u001b[0m\",\n",
      "      \"\u001b[32manonymous\u001b[0m\" : \u001b[31mfalse\u001b[0m\n",
      "    \u001b[35m}\u001b[0m,\n",
      "    \u001b[35m{\u001b[0m\n",
      "      \"\u001b[32mid\u001b[0m\" : \"\u001b[31mApproved\u001b[0m\",\n",
      "      \"\u001b[32manonymous\u001b[0m\" : \u001b[31mfalse\u001b[0m\n",
      "    \u001b[35m}\u001b[0m\n",
      "  \u001b[36m]\u001b[0m\n",
      "\u001b[35m}\u001b[0m\n",
      "\u001b[35m{\u001b[0m\n",
      "  \"\u001b[32mtriggering\u001b[0m\" : \"\u001b[31m2023-11-15 14:00:31\u001b[0m\"\n",
      "\u001b[35m}\u001b[0m\n",
      "\u001b[35m{\u001b[0m\n",
      "  \"\u001b[36mtriggered\u001b[0m\" : \u001b[35m{\u001b[0m\n",
      "    \"\u001b[32mid\u001b[0m\" : \"\u001b[31meyJ3b3JrZmxvd0lkIjoiV1hfUHJvZHVjdF9XRiIsIm5vZGVJZCI6IldYXzAiLCJub2RlVHlwZSI6InByb2R1Y3QifQ==\u001b[0m\"\n",
      "  \u001b[35m}\u001b[0m\n",
      "\u001b[35m}\u001b[0m\n",
      "waiting ...\n",
      "\u001b[35m{\u001b[0m\n",
      "  \"\u001b[36msearch\u001b[0m\" : \u001b[35m{\u001b[0m\n",
      "    \"\u001b[32mid\u001b[0m\" : \"\u001b[31meyJ3b3JrZmxvd0lkIjoiV1hfUHJvZHVjdF9XRiIsInN0YXRlSWQiOiJXWF9PbkhvbGQiLCJub2RlSWQiOiJXWF8wIiwibm9kZVR5cGUiOiJwcm9kdWN0In0=\u001b[0m\",\n",
      "    \"\u001b[36mnode\u001b[0m\" : \u001b[35m{\u001b[0m\n",
      "      \"\u001b[32mid\u001b[0m\" : \"\u001b[31mWX_0\u001b[0m\",\n",
      "      \"\u001b[32mtype\u001b[0m\" : \"\u001b[31mproduct\u001b[0m\"\n",
      "    \u001b[35m}\u001b[0m,\n",
      "    \"\u001b[32mworkflow\u001b[0m\" : \"\u001b[31mWX_Product_WF\u001b[0m\",\n",
      "    \"\u001b[32mstate\u001b[0m\" : \"\u001b[31mWX_OnHold\u001b[0m\",\n",
      "    \"\u001b[32muserAssignee\u001b[0m\" : \"\u001b[31mWX_CORE_1\u001b[0m\",\n",
      "    \"\u001b[32mgroupAssignee\u001b[0m\" : \u001b[0mnull\u001b[0m,\n",
      "    \"\u001b[32mdeadline\u001b[0m\" : \u001b[0mnull\u001b[0m,\n",
      "    \"\u001b[32mstatusFlag\u001b[0m\" : \u001b[0mnull\u001b[0m,\n",
      "    \"\u001b[32mtaskCreationTime\u001b[0m\" : \"\u001b[31m2023-11-15T14:00:32+11:00\u001b[0m\",\n",
      "    \"\u001b[32minstance\u001b[0m\" : \"\u001b[31meyJ3b3JrZmxvd0lkIjoiV1hfUHJvZHVjdF9XRiIsIm5vZGVJZCI6IldYXzAiLCJub2RlVHlwZSI6InByb2R1Y3QifQ==\u001b[0m\"\n",
      "  \u001b[35m}\u001b[0m\n",
      "\u001b[35m}\u001b[0m\n",
      "Task State: \u001b[32mWX_OnHold\u001b[0m\n"
     ]
    }
   ],
   "source": [
    "task_ids = cache['tasks']\n",
    "for i in range(len(task_ids)):\n",
    "\t#task_id = task_ids[i]\n",
    "\ttask_id = task_ids.pop(0)\n",
    "\n",
    "\tclaimed = tasks.claim(task_id)\n",
    "\trender(dict(claimed=claimed))\n",
    "\n",
    "\tevents = tasks.events(task_id)\n",
    "\trender(dict(events=events))\n",
    "\tevent_ids = list(map(lambda x:x['id'], events))\n",
    "\tassert(event_id in event_ids)\n",
    "\n",
    "\tnow = datetime.now()\n",
    "\tdts = f'{now:%Y-%m-%d %H:%M:%S}'\n",
    "\trender(dict(triggering=dts))\n",
    "\n",
    "\tif True: # either trigger of release here\n",
    "\t\ttriggered = tasks.trigger(task_id, event_id, message=f'triggered at {dts}')\n",
    "\t\trender(dict(triggered=triggered))\n",
    "\n",
    "\t\tprint('waiting ...')\n",
    "\t\ttime.sleep(3)\n",
    "\n",
    "\t\ttask_ids = tasks.search(workflow_id, state_id='', node_id=product_id, id_as_base64=True)\n",
    "\t\tfor task_id in task_ids:\n",
    "\t\t\ttask = tasks.get(task_id)\n",
    "\t\t\trender(dict(search=task))\n",
    "\t\t\tprint(f'Task State: {colours.Green}{task[\"state\"]}{colours.Off}')\n",
    "\t\t\tassert(task['state'] == 'WX_OnHold')\n",
    "\n",
    "\telse:\n",
    "\t\treleased = tasks.release(task_id)\n",
    "\t\trender(dict(released=released))"
   ]
  },
  {
   "cell_type": "markdown",
   "id": "d788762f-36e5-4e13-8331-f3e56b5bfc31",
   "metadata": {},
   "source": [
    "---\n",
    "# Test_04_Endpoints"
   ]
  },
  {
   "cell_type": "code",
   "execution_count": 18,
   "id": "9584f961-af01-4162-87a2-a06cd5e85c1c",
   "metadata": {},
   "outputs": [],
   "source": [
    "endpoints = Endpoints(asXML=True)\n",
    "endpoints.hostname = config['-H']\n",
    "endpoints.username = config['-U']\n",
    "endpoints.password = config['-P']\n",
    "#endpoints.verbose = True"
   ]
  },
  {
   "cell_type": "markdown",
   "id": "0f083b86-f547-475b-bdab-3ec17552ae46",
   "metadata": {},
   "source": [
    "# test_01_endpoints"
   ]
  },
  {
   "cell_type": "code",
   "execution_count": 19,
   "id": "9a96fd29-5671-4d52-a100-53d9c45d35bc",
   "metadata": {},
   "outputs": [
    {
     "name": "stdout",
     "output_type": "stream",
     "text": [
      "\u001b[32m<STEP.REST.Endpoints object at 0x10bb4e510>\u001b[0m\n"
     ]
    }
   ],
   "source": [
    "print(f'{colours.Green}{endpoints}{colours.Off}')\n",
    "assert endpoints\n",
    "\n",
    "result = endpoints.list()\n",
    "assert(result)\n",
    "\n",
    "_result = xmltodict.parse(result)\n",
    "assert('IntegrationEndpoints' in _result.keys())\n",
    "assert(len(_result['IntegrationEndpoints']))\n",
    "\n",
    "#render(_result)"
   ]
  },
  {
   "cell_type": "code",
   "execution_count": null,
   "id": "397a4b1d-8d71-4276-8d57-41422c4e4ac0",
   "metadata": {},
   "outputs": [],
   "source": []
  }
 ],
 "metadata": {
  "kernelspec": {
   "display_name": "Python 3 (ipykernel)",
   "language": "python",
   "name": "python3"
  },
  "language_info": {
   "codemirror_mode": {
    "name": "ipython",
    "version": 3
   },
   "file_extension": ".py",
   "mimetype": "text/x-python",
   "name": "python",
   "nbconvert_exporter": "python",
   "pygments_lexer": "ipython3",
   "version": "3.11.5"
  },
  "widgets": {
   "application/vnd.jupyter.widget-state+json": {
    "state": {},
    "version_major": 2,
    "version_minor": 0
   }
  }
 },
 "nbformat": 4,
 "nbformat_minor": 5
}
