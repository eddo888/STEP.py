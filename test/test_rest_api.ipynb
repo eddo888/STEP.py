{
 "cells": [
  {
   "cell_type": "code",
   "execution_count": 7,
   "id": "7a121bed-9a48-4a04-86af-78a74ec31866",
   "metadata": {
    "tags": []
   },
   "outputs": [],
   "source": [
    "import re, sys, os, requests, json, hashlib\n",
    "\n",
    "from time import sleep\n",
    "from io import StringIO\n",
    "from datetime import datetime\n",
    "from dotmap import DotMap\n",
    "from tqdm import tqdm\n",
    "from Perdy.pretty import prettyPrintLn\n",
    "from Spanners.Squirrel import Squirrel\n",
    "\n",
    "from STEP.REST import Processes, Endpoints, Imports, Exports, Classifications, Assets, Entities, Products"
   ]
  },
  {
   "cell_type": "code",
   "execution_count": 9,
   "id": "4495a278-53af-47f9-91c3-bdbb46dc6bb1",
   "metadata": {
    "tags": []
   },
   "outputs": [],
   "source": [
    "squirrel = Squirrel()\n",
    "hostname='http://dave-steplinux'\n",
    "username='DAVE'\n",
    "password = squirrel.get(f'stibo:{hostname}:{username}')"
   ]
  },
  {
   "cell_type": "code",
   "execution_count": 13,
   "id": "a488fb5c-17b8-4797-9436-5cefc0c9c007",
   "metadata": {
    "tags": []
   },
   "outputs": [],
   "source": [
    "context = 'Context1'\n",
    "workspace = 'Main'\n",
    "\n",
    "def constructor(clasz):\n",
    "    instance = clasz()\n",
    "    instance.hostname=hostname\n",
    "    instance.username=username\n",
    "    instance.password=password\n",
    "    return instance\n",
    "\n",
    "processes       = constructor(Processes)\n",
    "endpoints       = constructor(Endpoints)\n",
    "imports         = constructor(Imports)\n",
    "exports         = constructor(Exports)\n",
    "products        = constructor(Products)\n",
    "classifications = constructor(Classifications)\n",
    "entities        = constructor(Entities)\n",
    "assets          = constructor(Assets)"
   ]
  },
  {
   "cell_type": "markdown",
   "id": "f72553f8-a925-4587-b598-756af7bab8d7",
   "metadata": {},
   "source": [
    "# this is the first step"
   ]
  },
  {
   "cell_type": "code",
   "execution_count": 17,
   "id": "57f7cf14-0596-47ef-a3ed-002a90260c71",
   "metadata": {
    "tags": []
   },
   "outputs": [
    {
     "data": {
      "text/plain": [
       "{'id': 'eddo product was here',\n",
       " 'name': 'Eddo Product was here',\n",
       " 'objectType': 'Products',\n",
       " 'parent': 'Product hierarchy root',\n",
       " 'values': {'CompletenessStatus': {'calculated': True,\n",
       "   'contextLocal': True,\n",
       "   'inherited': False,\n",
       "   'value': {'value': 'Item Enrichment', 'valueId': None, 'unit': None}},\n",
       "  'CompletenessProductOnboarding': {'calculated': True,\n",
       "   'contextLocal': True,\n",
       "   'inherited': False,\n",
       "   'value': {'value': '0', 'valueId': None, 'unit': None}},\n",
       "  'Completeness Status Marketing': {'calculated': True,\n",
       "   'contextLocal': True,\n",
       "   'inherited': False,\n",
       "   'value': {'value': 'Item Enrichment', 'valueId': None, 'unit': None}},\n",
       "  'CompletenessScore': {'calculated': True,\n",
       "   'contextLocal': True,\n",
       "   'inherited': False,\n",
       "   'value': {'value': '0', 'valueId': None, 'unit': None}},\n",
       "  'CategorySpecificCompleteness': {'calculated': True,\n",
       "   'contextLocal': True,\n",
       "   'inherited': False,\n",
       "   'value': {'value': '0', 'valueId': None, 'unit': None}},\n",
       "  'Completeness Score Asset References': {'calculated': True,\n",
       "   'contextLocal': True,\n",
       "   'inherited': False,\n",
       "   'value': {'value': '0 %', 'valueId': None, 'unit': None}},\n",
       "  'CompletenessPrimaryImage': {'calculated': True,\n",
       "   'contextLocal': True,\n",
       "   'inherited': False,\n",
       "   'value': {'value': '0', 'valueId': None, 'unit': None}},\n",
       "  'Completeness_Score_Marketing': {'calculated': True,\n",
       "   'contextLocal': True,\n",
       "   'inherited': False,\n",
       "   'value': {'value': '0 %', 'valueId': None, 'unit': None}}},\n",
       " 'references': {},\n",
       " 'attributeLinks': [],\n",
       " 'dataContainers': {}}"
      ]
     },
     "execution_count": 17,
     "metadata": {},
     "output_type": "execute_result"
    }
   ],
   "source": [
    "product_parent = 'Product hierarchy root'\n",
    "product_type = 'Products'\n",
    "product_id = 'eddo product was here'\n",
    "product_name = 'Eddo Product was here'\n",
    "\n",
    "products.create_or_replace(id=product_id, name=product_name, parent=product_parent, tipe=product_type, overwrite=True)"
   ]
  },
  {
   "cell_type": "code",
   "execution_count": 5,
   "id": "df625f48-b4eb-4deb-a34b-9eea07b6ee97",
   "metadata": {
    "tags": []
   },
   "outputs": [
    {
     "data": {
      "text/plain": [
       "''"
      ]
     },
     "execution_count": 5,
     "metadata": {},
     "output_type": "execute_result"
    }
   ],
   "source": [
    "products.delete(product_id)\n",
    "products.approve_delete(product_id)\n",
    "products.purge(product_id)"
   ]
  },
  {
   "cell_type": "code",
   "execution_count": 6,
   "id": "e9bde303-553e-4f06-b74b-6b74c685e32d",
   "metadata": {
    "tags": []
   },
   "outputs": [
    {
     "data": {
      "text/plain": [
       "{'id': 'eddo document was here',\n",
       " 'name': 'Eddo document was here',\n",
       " 'objectType': 'Documents',\n",
       " 'parent': 'AssetsRoot',\n",
       " 'values': {},\n",
       " 'references': {},\n",
       " 'attributeLinks': []}"
      ]
     },
     "execution_count": 6,
     "metadata": {},
     "output_type": "execute_result"
    }
   ],
   "source": [
    "classification_parent = 'AssetsRoot'\n",
    "classification_type = 'Documents'\n",
    "classification_id = 'eddo document was here'\n",
    "classification_name = 'Eddo document was here'\n",
    "\n",
    "classifications.create_or_replace(id=classification_id, name=classification_name, parent=classification_parent, tipe=classification_type, overwrite=True)"
   ]
  },
  {
   "cell_type": "code",
   "execution_count": 7,
   "id": "2c8d27fa-f788-4541-8ace-56e7d155696d",
   "metadata": {
    "tags": []
   },
   "outputs": [
    {
     "data": {
      "text/plain": [
       "''"
      ]
     },
     "execution_count": 7,
     "metadata": {},
     "output_type": "execute_result"
    }
   ],
   "source": [
    "classifications.delete(classification_id)\n",
    "classifications.approve_delete(classification_id)\n",
    "classifications.purge(classification_id)"
   ]
  },
  {
   "cell_type": "code",
   "execution_count": 8,
   "id": "c36ec24e-ecc2-4447-8fc2-fdba1604cebb",
   "metadata": {
    "tags": []
   },
   "outputs": [
    {
     "data": {
      "text/plain": [
       "{'id': 'eddo asset was here',\n",
       " 'name': 'Eddo asset was here',\n",
       " 'objectType': 'PDF',\n",
       " 'classifications': ['Documents'],\n",
       " 'values': {},\n",
       " 'references': {},\n",
       " 'contentMetadata': {}}"
      ]
     },
     "execution_count": 8,
     "metadata": {},
     "output_type": "execute_result"
    }
   ],
   "source": [
    "asset_parents = ['Documents']\n",
    "asset_type = 'PDF'\n",
    "asset_id = 'eddo asset was here'\n",
    "asset_name = 'Eddo asset was here'\n",
    "\n",
    "list(filter(lambda x: not x.startswith('_'), dir(products)))\n",
    "\n",
    "assets.create_or_replace(id=asset_id, name=asset_name, parents=asset_parents, tipe=asset_type, overwrite=True)"
   ]
  },
  {
   "cell_type": "code",
   "execution_count": 9,
   "id": "010d0a77-cd22-4132-8016-ce096df02df9",
   "metadata": {
    "tags": []
   },
   "outputs": [
    {
     "data": {
      "text/plain": [
       "''"
      ]
     },
     "execution_count": 9,
     "metadata": {},
     "output_type": "execute_result"
    }
   ],
   "source": [
    "assets.delete(asset_id)\n",
    "assets.approve_delete(asset_id)\n",
    "assets.purge(asset_id)"
   ]
  },
  {
   "cell_type": "code",
   "execution_count": 10,
   "id": "c013f70f-cadc-4b5e-b5e6-052aec403d5c",
   "metadata": {
    "tags": []
   },
   "outputs": [
    {
     "data": {
      "text/plain": [
       "{'id': 'eddo entity was here',\n",
       " 'name': 'Eddo entity was here',\n",
       " 'objectType': 'SupplierObject',\n",
       " 'parent': 'Suppliers',\n",
       " 'values': {'ABN': {'calculated': False,\n",
       "   'contextLocal': True,\n",
       "   'inherited': False,\n",
       "   'value': {'value': '99 645 484 787', 'valueId': None, 'unit': None}}},\n",
       " 'references': {},\n",
       " 'dataContainers': {}}"
      ]
     },
     "execution_count": 10,
     "metadata": {},
     "output_type": "execute_result"
    }
   ],
   "source": [
    "entity_parent = 'Suppliers'\n",
    "entity_type = 'SupplierObject'\n",
    "entity_id = 'eddo entity was here'\n",
    "entity_name = 'Eddo entity was here'\n",
    "entity_values = { \"ABN\" : \"99 645 484 787\" }\n",
    "values = list(map(lambda x: f'{x}={entity_values[x]}', entity_values.keys()))\n",
    "\n",
    "entities.create_or_replace(id=entity_id, name=entity_name, parent=entity_parent, tipe=entity_type, overwrite=True, values=values)"
   ]
  },
  {
   "cell_type": "code",
   "execution_count": 11,
   "id": "3818d981-db84-431c-a57e-c27e021512c2",
   "metadata": {
    "tags": []
   },
   "outputs": [
    {
     "data": {
      "text/plain": [
       "''"
      ]
     },
     "execution_count": 11,
     "metadata": {},
     "output_type": "execute_result"
    }
   ],
   "source": [
    "entities.delete(entity_id)\n",
    "entities.approve_delete(entity_id)\n",
    "entities.purge(entity_id)"
   ]
  },
  {
   "cell_type": "code",
   "execution_count": null,
   "id": "b461d833-335e-4345-a63e-bce4badc56a0",
   "metadata": {},
   "outputs": [],
   "source": []
  }
 ],
 "metadata": {
  "kernelspec": {
   "display_name": "Python 3 (ipykernel)",
   "language": "python",
   "name": "python3"
  },
  "language_info": {
   "codemirror_mode": {
    "name": "ipython",
    "version": 3
   },
   "file_extension": ".py",
   "mimetype": "text/x-python",
   "name": "python",
   "nbconvert_exporter": "python",
   "pygments_lexer": "ipython3",
   "version": "3.11.5"
  },
  "widgets": {
   "application/vnd.jupyter.widget-state+json": {
    "state": {},
    "version_major": 2,
    "version_minor": 0
   }
  }
 },
 "nbformat": 4,
 "nbformat_minor": 5
}
